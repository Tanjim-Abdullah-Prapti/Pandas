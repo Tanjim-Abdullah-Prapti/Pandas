{
  "nbformat": 4,
  "nbformat_minor": 0,
  "metadata": {
    "colab": {
      "name": "pandas_timezone_handling.ipynb",
      "provenance": []
    },
    "kernelspec": {
      "name": "python3",
      "display_name": "Python 3"
    },
    "language_info": {
      "name": "python"
    }
  },
  "cells": [
    {
      "cell_type": "code",
      "metadata": {
        "colab": {
          "base_uri": "https://localhost:8080/",
          "height": 265
        },
        "id": "gcSpoYW3o8EF",
        "outputId": "26fc5900-be65-4f27-bb0c-4f01cf745de4"
      },
      "source": [
        "import pandas as pd\n",
        "df = pd.read_csv(\"msft_20.csv\", header=1,index_col='Date Time',parse_dates=True)\n",
        "df"
      ],
      "execution_count": 1,
      "outputs": [
        {
          "output_type": "execute_result",
          "data": {
            "text/html": [
              "<div>\n",
              "<style scoped>\n",
              "    .dataframe tbody tr th:only-of-type {\n",
              "        vertical-align: middle;\n",
              "    }\n",
              "\n",
              "    .dataframe tbody tr th {\n",
              "        vertical-align: top;\n",
              "    }\n",
              "\n",
              "    .dataframe thead th {\n",
              "        text-align: right;\n",
              "    }\n",
              "</style>\n",
              "<table border=\"1\" class=\"dataframe\">\n",
              "  <thead>\n",
              "    <tr style=\"text-align: right;\">\n",
              "      <th></th>\n",
              "      <th>Price</th>\n",
              "    </tr>\n",
              "    <tr>\n",
              "      <th>Date Time</th>\n",
              "      <th></th>\n",
              "    </tr>\n",
              "  </thead>\n",
              "  <tbody>\n",
              "    <tr>\n",
              "      <th>2017-08-17 09:00:00</th>\n",
              "      <td>72.38</td>\n",
              "    </tr>\n",
              "    <tr>\n",
              "      <th>2017-08-17 09:15:00</th>\n",
              "      <td>71.00</td>\n",
              "    </tr>\n",
              "    <tr>\n",
              "      <th>2017-08-17 09:30:00</th>\n",
              "      <td>71.67</td>\n",
              "    </tr>\n",
              "    <tr>\n",
              "      <th>2017-08-17 10:00:00</th>\n",
              "      <td>72.80</td>\n",
              "    </tr>\n",
              "    <tr>\n",
              "      <th>2017-08-17 10:30:00</th>\n",
              "      <td>73.00</td>\n",
              "    </tr>\n",
              "    <tr>\n",
              "      <th>2017-08-17 11:00:00</th>\n",
              "      <td>72.50</td>\n",
              "    </tr>\n",
              "  </tbody>\n",
              "</table>\n",
              "</div>"
            ],
            "text/plain": [
              "                     Price\n",
              "Date Time                 \n",
              "2017-08-17 09:00:00  72.38\n",
              "2017-08-17 09:15:00  71.00\n",
              "2017-08-17 09:30:00  71.67\n",
              "2017-08-17 10:00:00  72.80\n",
              "2017-08-17 10:30:00  73.00\n",
              "2017-08-17 11:00:00  72.50"
            ]
          },
          "metadata": {},
          "execution_count": 1
        }
      ]
    },
    {
      "cell_type": "code",
      "metadata": {
        "colab": {
          "base_uri": "https://localhost:8080/"
        },
        "id": "TJbePkgMp3f2",
        "outputId": "0fb9f049-84a5-4d6d-ddd0-84322bffd802"
      },
      "source": [
        "df.index"
      ],
      "execution_count": 2,
      "outputs": [
        {
          "output_type": "execute_result",
          "data": {
            "text/plain": [
              "DatetimeIndex(['2017-08-17 09:00:00', '2017-08-17 09:15:00',\n",
              "               '2017-08-17 09:30:00', '2017-08-17 10:00:00',\n",
              "               '2017-08-17 10:30:00', '2017-08-17 11:00:00'],\n",
              "              dtype='datetime64[ns]', name='Date Time', freq=None)"
            ]
          },
          "metadata": {},
          "execution_count": 2
        }
      ]
    },
    {
      "cell_type": "code",
      "metadata": {
        "colab": {
          "base_uri": "https://localhost:8080/",
          "height": 265
        },
        "id": "C9OZesz1p3i8",
        "outputId": "4d3b8544-1829-4644-d493-8b22b9c507f9"
      },
      "source": [
        "df.tz_localize(tz='US/Eastern')\n",
        "df"
      ],
      "execution_count": 3,
      "outputs": [
        {
          "output_type": "execute_result",
          "data": {
            "text/html": [
              "<div>\n",
              "<style scoped>\n",
              "    .dataframe tbody tr th:only-of-type {\n",
              "        vertical-align: middle;\n",
              "    }\n",
              "\n",
              "    .dataframe tbody tr th {\n",
              "        vertical-align: top;\n",
              "    }\n",
              "\n",
              "    .dataframe thead th {\n",
              "        text-align: right;\n",
              "    }\n",
              "</style>\n",
              "<table border=\"1\" class=\"dataframe\">\n",
              "  <thead>\n",
              "    <tr style=\"text-align: right;\">\n",
              "      <th></th>\n",
              "      <th>Price</th>\n",
              "    </tr>\n",
              "    <tr>\n",
              "      <th>Date Time</th>\n",
              "      <th></th>\n",
              "    </tr>\n",
              "  </thead>\n",
              "  <tbody>\n",
              "    <tr>\n",
              "      <th>2017-08-17 09:00:00</th>\n",
              "      <td>72.38</td>\n",
              "    </tr>\n",
              "    <tr>\n",
              "      <th>2017-08-17 09:15:00</th>\n",
              "      <td>71.00</td>\n",
              "    </tr>\n",
              "    <tr>\n",
              "      <th>2017-08-17 09:30:00</th>\n",
              "      <td>71.67</td>\n",
              "    </tr>\n",
              "    <tr>\n",
              "      <th>2017-08-17 10:00:00</th>\n",
              "      <td>72.80</td>\n",
              "    </tr>\n",
              "    <tr>\n",
              "      <th>2017-08-17 10:30:00</th>\n",
              "      <td>73.00</td>\n",
              "    </tr>\n",
              "    <tr>\n",
              "      <th>2017-08-17 11:00:00</th>\n",
              "      <td>72.50</td>\n",
              "    </tr>\n",
              "  </tbody>\n",
              "</table>\n",
              "</div>"
            ],
            "text/plain": [
              "                     Price\n",
              "Date Time                 \n",
              "2017-08-17 09:00:00  72.38\n",
              "2017-08-17 09:15:00  71.00\n",
              "2017-08-17 09:30:00  71.67\n",
              "2017-08-17 10:00:00  72.80\n",
              "2017-08-17 10:30:00  73.00\n",
              "2017-08-17 11:00:00  72.50"
            ]
          },
          "metadata": {},
          "execution_count": 3
        }
      ]
    },
    {
      "cell_type": "code",
      "metadata": {
        "colab": {
          "base_uri": "https://localhost:8080/"
        },
        "id": "jx8UbDT3p3lc",
        "outputId": "65c99149-75c9-48e7-899f-f14697795121"
      },
      "source": [
        "df.index = df.index.tz_localize(tz='US/Eastern')\n",
        "df.index"
      ],
      "execution_count": 4,
      "outputs": [
        {
          "output_type": "execute_result",
          "data": {
            "text/plain": [
              "DatetimeIndex(['2017-08-17 09:00:00-04:00', '2017-08-17 09:15:00-04:00',\n",
              "               '2017-08-17 09:30:00-04:00', '2017-08-17 10:00:00-04:00',\n",
              "               '2017-08-17 10:30:00-04:00', '2017-08-17 11:00:00-04:00'],\n",
              "              dtype='datetime64[ns, US/Eastern]', name='Date Time', freq=None)"
            ]
          },
          "metadata": {},
          "execution_count": 4
        }
      ]
    },
    {
      "cell_type": "code",
      "metadata": {
        "colab": {
          "base_uri": "https://localhost:8080/",
          "height": 265
        },
        "id": "I0Q71GC6p3oO",
        "outputId": "0660833e-0573-4662-b669-8aa21c60ab7d"
      },
      "source": [
        "df = df.tz_convert('Europe/Berlin')\n",
        "df"
      ],
      "execution_count": 5,
      "outputs": [
        {
          "output_type": "execute_result",
          "data": {
            "text/html": [
              "<div>\n",
              "<style scoped>\n",
              "    .dataframe tbody tr th:only-of-type {\n",
              "        vertical-align: middle;\n",
              "    }\n",
              "\n",
              "    .dataframe tbody tr th {\n",
              "        vertical-align: top;\n",
              "    }\n",
              "\n",
              "    .dataframe thead th {\n",
              "        text-align: right;\n",
              "    }\n",
              "</style>\n",
              "<table border=\"1\" class=\"dataframe\">\n",
              "  <thead>\n",
              "    <tr style=\"text-align: right;\">\n",
              "      <th></th>\n",
              "      <th>Price</th>\n",
              "    </tr>\n",
              "    <tr>\n",
              "      <th>Date Time</th>\n",
              "      <th></th>\n",
              "    </tr>\n",
              "  </thead>\n",
              "  <tbody>\n",
              "    <tr>\n",
              "      <th>2017-08-17 15:00:00+02:00</th>\n",
              "      <td>72.38</td>\n",
              "    </tr>\n",
              "    <tr>\n",
              "      <th>2017-08-17 15:15:00+02:00</th>\n",
              "      <td>71.00</td>\n",
              "    </tr>\n",
              "    <tr>\n",
              "      <th>2017-08-17 15:30:00+02:00</th>\n",
              "      <td>71.67</td>\n",
              "    </tr>\n",
              "    <tr>\n",
              "      <th>2017-08-17 16:00:00+02:00</th>\n",
              "      <td>72.80</td>\n",
              "    </tr>\n",
              "    <tr>\n",
              "      <th>2017-08-17 16:30:00+02:00</th>\n",
              "      <td>73.00</td>\n",
              "    </tr>\n",
              "    <tr>\n",
              "      <th>2017-08-17 17:00:00+02:00</th>\n",
              "      <td>72.50</td>\n",
              "    </tr>\n",
              "  </tbody>\n",
              "</table>\n",
              "</div>"
            ],
            "text/plain": [
              "                           Price\n",
              "Date Time                       \n",
              "2017-08-17 15:00:00+02:00  72.38\n",
              "2017-08-17 15:15:00+02:00  71.00\n",
              "2017-08-17 15:30:00+02:00  71.67\n",
              "2017-08-17 16:00:00+02:00  72.80\n",
              "2017-08-17 16:30:00+02:00  73.00\n",
              "2017-08-17 17:00:00+02:00  72.50"
            ]
          },
          "metadata": {},
          "execution_count": 5
        }
      ]
    },
    {
      "cell_type": "code",
      "metadata": {
        "colab": {
          "base_uri": "https://localhost:8080/"
        },
        "id": "ZWkg9rIwp3q9",
        "outputId": "ae3a7969-11a5-4f43-b9fd-718ed1f7466d"
      },
      "source": [
        "df.index"
      ],
      "execution_count": 6,
      "outputs": [
        {
          "output_type": "execute_result",
          "data": {
            "text/plain": [
              "DatetimeIndex(['2017-08-17 15:00:00+02:00', '2017-08-17 15:15:00+02:00',\n",
              "               '2017-08-17 15:30:00+02:00', '2017-08-17 16:00:00+02:00',\n",
              "               '2017-08-17 16:30:00+02:00', '2017-08-17 17:00:00+02:00'],\n",
              "              dtype='datetime64[ns, Europe/Berlin]', name='Date Time', freq=None)"
            ]
          },
          "metadata": {},
          "execution_count": 6
        }
      ]
    },
    {
      "cell_type": "code",
      "metadata": {
        "colab": {
          "base_uri": "https://localhost:8080/"
        },
        "id": "Mu9OzojBp3te",
        "outputId": "7f9ef879-f42c-40ec-e770-da058f9214fa"
      },
      "source": [
        "from pytz import all_timezones\n",
        "print (all_timezones)"
      ],
      "execution_count": 7,
      "outputs": [
        {
          "output_type": "stream",
          "name": "stdout",
          "text": [
            "['Africa/Abidjan', 'Africa/Accra', 'Africa/Addis_Ababa', 'Africa/Algiers', 'Africa/Asmara', 'Africa/Asmera', 'Africa/Bamako', 'Africa/Bangui', 'Africa/Banjul', 'Africa/Bissau', 'Africa/Blantyre', 'Africa/Brazzaville', 'Africa/Bujumbura', 'Africa/Cairo', 'Africa/Casablanca', 'Africa/Ceuta', 'Africa/Conakry', 'Africa/Dakar', 'Africa/Dar_es_Salaam', 'Africa/Djibouti', 'Africa/Douala', 'Africa/El_Aaiun', 'Africa/Freetown', 'Africa/Gaborone', 'Africa/Harare', 'Africa/Johannesburg', 'Africa/Juba', 'Africa/Kampala', 'Africa/Khartoum', 'Africa/Kigali', 'Africa/Kinshasa', 'Africa/Lagos', 'Africa/Libreville', 'Africa/Lome', 'Africa/Luanda', 'Africa/Lubumbashi', 'Africa/Lusaka', 'Africa/Malabo', 'Africa/Maputo', 'Africa/Maseru', 'Africa/Mbabane', 'Africa/Mogadishu', 'Africa/Monrovia', 'Africa/Nairobi', 'Africa/Ndjamena', 'Africa/Niamey', 'Africa/Nouakchott', 'Africa/Ouagadougou', 'Africa/Porto-Novo', 'Africa/Sao_Tome', 'Africa/Timbuktu', 'Africa/Tripoli', 'Africa/Tunis', 'Africa/Windhoek', 'America/Adak', 'America/Anchorage', 'America/Anguilla', 'America/Antigua', 'America/Araguaina', 'America/Argentina/Buenos_Aires', 'America/Argentina/Catamarca', 'America/Argentina/ComodRivadavia', 'America/Argentina/Cordoba', 'America/Argentina/Jujuy', 'America/Argentina/La_Rioja', 'America/Argentina/Mendoza', 'America/Argentina/Rio_Gallegos', 'America/Argentina/Salta', 'America/Argentina/San_Juan', 'America/Argentina/San_Luis', 'America/Argentina/Tucuman', 'America/Argentina/Ushuaia', 'America/Aruba', 'America/Asuncion', 'America/Atikokan', 'America/Atka', 'America/Bahia', 'America/Bahia_Banderas', 'America/Barbados', 'America/Belem', 'America/Belize', 'America/Blanc-Sablon', 'America/Boa_Vista', 'America/Bogota', 'America/Boise', 'America/Buenos_Aires', 'America/Cambridge_Bay', 'America/Campo_Grande', 'America/Cancun', 'America/Caracas', 'America/Catamarca', 'America/Cayenne', 'America/Cayman', 'America/Chicago', 'America/Chihuahua', 'America/Coral_Harbour', 'America/Cordoba', 'America/Costa_Rica', 'America/Creston', 'America/Cuiaba', 'America/Curacao', 'America/Danmarkshavn', 'America/Dawson', 'America/Dawson_Creek', 'America/Denver', 'America/Detroit', 'America/Dominica', 'America/Edmonton', 'America/Eirunepe', 'America/El_Salvador', 'America/Ensenada', 'America/Fort_Nelson', 'America/Fort_Wayne', 'America/Fortaleza', 'America/Glace_Bay', 'America/Godthab', 'America/Goose_Bay', 'America/Grand_Turk', 'America/Grenada', 'America/Guadeloupe', 'America/Guatemala', 'America/Guayaquil', 'America/Guyana', 'America/Halifax', 'America/Havana', 'America/Hermosillo', 'America/Indiana/Indianapolis', 'America/Indiana/Knox', 'America/Indiana/Marengo', 'America/Indiana/Petersburg', 'America/Indiana/Tell_City', 'America/Indiana/Vevay', 'America/Indiana/Vincennes', 'America/Indiana/Winamac', 'America/Indianapolis', 'America/Inuvik', 'America/Iqaluit', 'America/Jamaica', 'America/Jujuy', 'America/Juneau', 'America/Kentucky/Louisville', 'America/Kentucky/Monticello', 'America/Knox_IN', 'America/Kralendijk', 'America/La_Paz', 'America/Lima', 'America/Los_Angeles', 'America/Louisville', 'America/Lower_Princes', 'America/Maceio', 'America/Managua', 'America/Manaus', 'America/Marigot', 'America/Martinique', 'America/Matamoros', 'America/Mazatlan', 'America/Mendoza', 'America/Menominee', 'America/Merida', 'America/Metlakatla', 'America/Mexico_City', 'America/Miquelon', 'America/Moncton', 'America/Monterrey', 'America/Montevideo', 'America/Montreal', 'America/Montserrat', 'America/Nassau', 'America/New_York', 'America/Nipigon', 'America/Nome', 'America/Noronha', 'America/North_Dakota/Beulah', 'America/North_Dakota/Center', 'America/North_Dakota/New_Salem', 'America/Ojinaga', 'America/Panama', 'America/Pangnirtung', 'America/Paramaribo', 'America/Phoenix', 'America/Port-au-Prince', 'America/Port_of_Spain', 'America/Porto_Acre', 'America/Porto_Velho', 'America/Puerto_Rico', 'America/Punta_Arenas', 'America/Rainy_River', 'America/Rankin_Inlet', 'America/Recife', 'America/Regina', 'America/Resolute', 'America/Rio_Branco', 'America/Rosario', 'America/Santa_Isabel', 'America/Santarem', 'America/Santiago', 'America/Santo_Domingo', 'America/Sao_Paulo', 'America/Scoresbysund', 'America/Shiprock', 'America/Sitka', 'America/St_Barthelemy', 'America/St_Johns', 'America/St_Kitts', 'America/St_Lucia', 'America/St_Thomas', 'America/St_Vincent', 'America/Swift_Current', 'America/Tegucigalpa', 'America/Thule', 'America/Thunder_Bay', 'America/Tijuana', 'America/Toronto', 'America/Tortola', 'America/Vancouver', 'America/Virgin', 'America/Whitehorse', 'America/Winnipeg', 'America/Yakutat', 'America/Yellowknife', 'Antarctica/Casey', 'Antarctica/Davis', 'Antarctica/DumontDUrville', 'Antarctica/Macquarie', 'Antarctica/Mawson', 'Antarctica/McMurdo', 'Antarctica/Palmer', 'Antarctica/Rothera', 'Antarctica/South_Pole', 'Antarctica/Syowa', 'Antarctica/Troll', 'Antarctica/Vostok', 'Arctic/Longyearbyen', 'Asia/Aden', 'Asia/Almaty', 'Asia/Amman', 'Asia/Anadyr', 'Asia/Aqtau', 'Asia/Aqtobe', 'Asia/Ashgabat', 'Asia/Ashkhabad', 'Asia/Atyrau', 'Asia/Baghdad', 'Asia/Bahrain', 'Asia/Baku', 'Asia/Bangkok', 'Asia/Barnaul', 'Asia/Beirut', 'Asia/Bishkek', 'Asia/Brunei', 'Asia/Calcutta', 'Asia/Chita', 'Asia/Choibalsan', 'Asia/Chongqing', 'Asia/Chungking', 'Asia/Colombo', 'Asia/Dacca', 'Asia/Damascus', 'Asia/Dhaka', 'Asia/Dili', 'Asia/Dubai', 'Asia/Dushanbe', 'Asia/Famagusta', 'Asia/Gaza', 'Asia/Harbin', 'Asia/Hebron', 'Asia/Ho_Chi_Minh', 'Asia/Hong_Kong', 'Asia/Hovd', 'Asia/Irkutsk', 'Asia/Istanbul', 'Asia/Jakarta', 'Asia/Jayapura', 'Asia/Jerusalem', 'Asia/Kabul', 'Asia/Kamchatka', 'Asia/Karachi', 'Asia/Kashgar', 'Asia/Kathmandu', 'Asia/Katmandu', 'Asia/Khandyga', 'Asia/Kolkata', 'Asia/Krasnoyarsk', 'Asia/Kuala_Lumpur', 'Asia/Kuching', 'Asia/Kuwait', 'Asia/Macao', 'Asia/Macau', 'Asia/Magadan', 'Asia/Makassar', 'Asia/Manila', 'Asia/Muscat', 'Asia/Nicosia', 'Asia/Novokuznetsk', 'Asia/Novosibirsk', 'Asia/Omsk', 'Asia/Oral', 'Asia/Phnom_Penh', 'Asia/Pontianak', 'Asia/Pyongyang', 'Asia/Qatar', 'Asia/Qostanay', 'Asia/Qyzylorda', 'Asia/Rangoon', 'Asia/Riyadh', 'Asia/Saigon', 'Asia/Sakhalin', 'Asia/Samarkand', 'Asia/Seoul', 'Asia/Shanghai', 'Asia/Singapore', 'Asia/Srednekolymsk', 'Asia/Taipei', 'Asia/Tashkent', 'Asia/Tbilisi', 'Asia/Tehran', 'Asia/Tel_Aviv', 'Asia/Thimbu', 'Asia/Thimphu', 'Asia/Tokyo', 'Asia/Tomsk', 'Asia/Ujung_Pandang', 'Asia/Ulaanbaatar', 'Asia/Ulan_Bator', 'Asia/Urumqi', 'Asia/Ust-Nera', 'Asia/Vientiane', 'Asia/Vladivostok', 'Asia/Yakutsk', 'Asia/Yangon', 'Asia/Yekaterinburg', 'Asia/Yerevan', 'Atlantic/Azores', 'Atlantic/Bermuda', 'Atlantic/Canary', 'Atlantic/Cape_Verde', 'Atlantic/Faeroe', 'Atlantic/Faroe', 'Atlantic/Jan_Mayen', 'Atlantic/Madeira', 'Atlantic/Reykjavik', 'Atlantic/South_Georgia', 'Atlantic/St_Helena', 'Atlantic/Stanley', 'Australia/ACT', 'Australia/Adelaide', 'Australia/Brisbane', 'Australia/Broken_Hill', 'Australia/Canberra', 'Australia/Currie', 'Australia/Darwin', 'Australia/Eucla', 'Australia/Hobart', 'Australia/LHI', 'Australia/Lindeman', 'Australia/Lord_Howe', 'Australia/Melbourne', 'Australia/NSW', 'Australia/North', 'Australia/Perth', 'Australia/Queensland', 'Australia/South', 'Australia/Sydney', 'Australia/Tasmania', 'Australia/Victoria', 'Australia/West', 'Australia/Yancowinna', 'Brazil/Acre', 'Brazil/DeNoronha', 'Brazil/East', 'Brazil/West', 'CET', 'CST6CDT', 'Canada/Atlantic', 'Canada/Central', 'Canada/Eastern', 'Canada/Mountain', 'Canada/Newfoundland', 'Canada/Pacific', 'Canada/Saskatchewan', 'Canada/Yukon', 'Chile/Continental', 'Chile/EasterIsland', 'Cuba', 'EET', 'EST', 'EST5EDT', 'Egypt', 'Eire', 'Etc/GMT', 'Etc/GMT+0', 'Etc/GMT+1', 'Etc/GMT+10', 'Etc/GMT+11', 'Etc/GMT+12', 'Etc/GMT+2', 'Etc/GMT+3', 'Etc/GMT+4', 'Etc/GMT+5', 'Etc/GMT+6', 'Etc/GMT+7', 'Etc/GMT+8', 'Etc/GMT+9', 'Etc/GMT-0', 'Etc/GMT-1', 'Etc/GMT-10', 'Etc/GMT-11', 'Etc/GMT-12', 'Etc/GMT-13', 'Etc/GMT-14', 'Etc/GMT-2', 'Etc/GMT-3', 'Etc/GMT-4', 'Etc/GMT-5', 'Etc/GMT-6', 'Etc/GMT-7', 'Etc/GMT-8', 'Etc/GMT-9', 'Etc/GMT0', 'Etc/Greenwich', 'Etc/UCT', 'Etc/UTC', 'Etc/Universal', 'Etc/Zulu', 'Europe/Amsterdam', 'Europe/Andorra', 'Europe/Astrakhan', 'Europe/Athens', 'Europe/Belfast', 'Europe/Belgrade', 'Europe/Berlin', 'Europe/Bratislava', 'Europe/Brussels', 'Europe/Bucharest', 'Europe/Budapest', 'Europe/Busingen', 'Europe/Chisinau', 'Europe/Copenhagen', 'Europe/Dublin', 'Europe/Gibraltar', 'Europe/Guernsey', 'Europe/Helsinki', 'Europe/Isle_of_Man', 'Europe/Istanbul', 'Europe/Jersey', 'Europe/Kaliningrad', 'Europe/Kiev', 'Europe/Kirov', 'Europe/Lisbon', 'Europe/Ljubljana', 'Europe/London', 'Europe/Luxembourg', 'Europe/Madrid', 'Europe/Malta', 'Europe/Mariehamn', 'Europe/Minsk', 'Europe/Monaco', 'Europe/Moscow', 'Europe/Nicosia', 'Europe/Oslo', 'Europe/Paris', 'Europe/Podgorica', 'Europe/Prague', 'Europe/Riga', 'Europe/Rome', 'Europe/Samara', 'Europe/San_Marino', 'Europe/Sarajevo', 'Europe/Saratov', 'Europe/Simferopol', 'Europe/Skopje', 'Europe/Sofia', 'Europe/Stockholm', 'Europe/Tallinn', 'Europe/Tirane', 'Europe/Tiraspol', 'Europe/Ulyanovsk', 'Europe/Uzhgorod', 'Europe/Vaduz', 'Europe/Vatican', 'Europe/Vienna', 'Europe/Vilnius', 'Europe/Volgograd', 'Europe/Warsaw', 'Europe/Zagreb', 'Europe/Zaporozhye', 'Europe/Zurich', 'GB', 'GB-Eire', 'GMT', 'GMT+0', 'GMT-0', 'GMT0', 'Greenwich', 'HST', 'Hongkong', 'Iceland', 'Indian/Antananarivo', 'Indian/Chagos', 'Indian/Christmas', 'Indian/Cocos', 'Indian/Comoro', 'Indian/Kerguelen', 'Indian/Mahe', 'Indian/Maldives', 'Indian/Mauritius', 'Indian/Mayotte', 'Indian/Reunion', 'Iran', 'Israel', 'Jamaica', 'Japan', 'Kwajalein', 'Libya', 'MET', 'MST', 'MST7MDT', 'Mexico/BajaNorte', 'Mexico/BajaSur', 'Mexico/General', 'NZ', 'NZ-CHAT', 'Navajo', 'PRC', 'PST8PDT', 'Pacific/Apia', 'Pacific/Auckland', 'Pacific/Bougainville', 'Pacific/Chatham', 'Pacific/Chuuk', 'Pacific/Easter', 'Pacific/Efate', 'Pacific/Enderbury', 'Pacific/Fakaofo', 'Pacific/Fiji', 'Pacific/Funafuti', 'Pacific/Galapagos', 'Pacific/Gambier', 'Pacific/Guadalcanal', 'Pacific/Guam', 'Pacific/Honolulu', 'Pacific/Johnston', 'Pacific/Kiritimati', 'Pacific/Kosrae', 'Pacific/Kwajalein', 'Pacific/Majuro', 'Pacific/Marquesas', 'Pacific/Midway', 'Pacific/Nauru', 'Pacific/Niue', 'Pacific/Norfolk', 'Pacific/Noumea', 'Pacific/Pago_Pago', 'Pacific/Palau', 'Pacific/Pitcairn', 'Pacific/Pohnpei', 'Pacific/Ponape', 'Pacific/Port_Moresby', 'Pacific/Rarotonga', 'Pacific/Saipan', 'Pacific/Samoa', 'Pacific/Tahiti', 'Pacific/Tarawa', 'Pacific/Tongatapu', 'Pacific/Truk', 'Pacific/Wake', 'Pacific/Wallis', 'Pacific/Yap', 'Poland', 'Portugal', 'ROC', 'ROK', 'Singapore', 'Turkey', 'UCT', 'US/Alaska', 'US/Aleutian', 'US/Arizona', 'US/Central', 'US/East-Indiana', 'US/Eastern', 'US/Hawaii', 'US/Indiana-Starke', 'US/Michigan', 'US/Mountain', 'US/Pacific', 'US/Samoa', 'UTC', 'Universal', 'W-SU', 'WET', 'Zulu']\n"
          ]
        }
      ]
    },
    {
      "cell_type": "code",
      "metadata": {
        "colab": {
          "base_uri": "https://localhost:8080/",
          "height": 265
        },
        "id": "zgCcPXlmp3wd",
        "outputId": "e1dfaac2-813e-4a2d-d63a-cbe4242bcb58"
      },
      "source": [
        "df.index = df.index.tz_convert('Asia/Calcutta') # tz database doesn't have any Mumbai timezone but calcutta and mumbai are both in same timezone so we will use that\n",
        "df"
      ],
      "execution_count": 8,
      "outputs": [
        {
          "output_type": "execute_result",
          "data": {
            "text/html": [
              "<div>\n",
              "<style scoped>\n",
              "    .dataframe tbody tr th:only-of-type {\n",
              "        vertical-align: middle;\n",
              "    }\n",
              "\n",
              "    .dataframe tbody tr th {\n",
              "        vertical-align: top;\n",
              "    }\n",
              "\n",
              "    .dataframe thead th {\n",
              "        text-align: right;\n",
              "    }\n",
              "</style>\n",
              "<table border=\"1\" class=\"dataframe\">\n",
              "  <thead>\n",
              "    <tr style=\"text-align: right;\">\n",
              "      <th></th>\n",
              "      <th>Price</th>\n",
              "    </tr>\n",
              "    <tr>\n",
              "      <th>Date Time</th>\n",
              "      <th></th>\n",
              "    </tr>\n",
              "  </thead>\n",
              "  <tbody>\n",
              "    <tr>\n",
              "      <th>2017-08-17 18:30:00+05:30</th>\n",
              "      <td>72.38</td>\n",
              "    </tr>\n",
              "    <tr>\n",
              "      <th>2017-08-17 18:45:00+05:30</th>\n",
              "      <td>71.00</td>\n",
              "    </tr>\n",
              "    <tr>\n",
              "      <th>2017-08-17 19:00:00+05:30</th>\n",
              "      <td>71.67</td>\n",
              "    </tr>\n",
              "    <tr>\n",
              "      <th>2017-08-17 19:30:00+05:30</th>\n",
              "      <td>72.80</td>\n",
              "    </tr>\n",
              "    <tr>\n",
              "      <th>2017-08-17 20:00:00+05:30</th>\n",
              "      <td>73.00</td>\n",
              "    </tr>\n",
              "    <tr>\n",
              "      <th>2017-08-17 20:30:00+05:30</th>\n",
              "      <td>72.50</td>\n",
              "    </tr>\n",
              "  </tbody>\n",
              "</table>\n",
              "</div>"
            ],
            "text/plain": [
              "                           Price\n",
              "Date Time                       \n",
              "2017-08-17 18:30:00+05:30  72.38\n",
              "2017-08-17 18:45:00+05:30  71.00\n",
              "2017-08-17 19:00:00+05:30  71.67\n",
              "2017-08-17 19:30:00+05:30  72.80\n",
              "2017-08-17 20:00:00+05:30  73.00\n",
              "2017-08-17 20:30:00+05:30  72.50"
            ]
          },
          "metadata": {},
          "execution_count": 8
        }
      ]
    },
    {
      "cell_type": "code",
      "metadata": {
        "colab": {
          "base_uri": "https://localhost:8080/"
        },
        "id": "jOSx0ILUp3zd",
        "outputId": "a820124c-50f7-4949-ecdb-554c3854a994"
      },
      "source": [
        "london = pd.date_range('3/6/2012 00:09:00', periods=10, freq='H',tz='Europe/London')\n",
        "london"
      ],
      "execution_count": 9,
      "outputs": [
        {
          "output_type": "execute_result",
          "data": {
            "text/plain": [
              "DatetimeIndex(['2012-03-06 00:09:00+00:00', '2012-03-06 01:09:00+00:00',\n",
              "               '2012-03-06 02:09:00+00:00', '2012-03-06 03:09:00+00:00',\n",
              "               '2012-03-06 04:09:00+00:00', '2012-03-06 05:09:00+00:00',\n",
              "               '2012-03-06 06:09:00+00:00', '2012-03-06 07:09:00+00:00',\n",
              "               '2012-03-06 08:09:00+00:00', '2012-03-06 09:09:00+00:00'],\n",
              "              dtype='datetime64[ns, Europe/London]', freq='H')"
            ]
          },
          "metadata": {},
          "execution_count": 9
        }
      ]
    },
    {
      "cell_type": "code",
      "metadata": {
        "colab": {
          "base_uri": "https://localhost:8080/"
        },
        "id": "ctFSw0NRp32m",
        "outputId": "f7777ade-e416-4b56-f831-f49c9c990607"
      },
      "source": [
        "td = pd.date_range('3/6/2012 00:00', periods=10, freq='H',tz='dateutil/Europe/London')\n",
        "td"
      ],
      "execution_count": 10,
      "outputs": [
        {
          "output_type": "execute_result",
          "data": {
            "text/plain": [
              "DatetimeIndex(['2012-03-06 00:00:00+00:00', '2012-03-06 01:00:00+00:00',\n",
              "               '2012-03-06 02:00:00+00:00', '2012-03-06 03:00:00+00:00',\n",
              "               '2012-03-06 04:00:00+00:00', '2012-03-06 05:00:00+00:00',\n",
              "               '2012-03-06 06:00:00+00:00', '2012-03-06 07:00:00+00:00',\n",
              "               '2012-03-06 08:00:00+00:00', '2012-03-06 09:00:00+00:00'],\n",
              "              dtype='datetime64[ns, tzfile('/usr/share/zoneinfo/Europe/London')]', freq='H')"
            ]
          },
          "metadata": {},
          "execution_count": 10
        }
      ]
    },
    {
      "cell_type": "code",
      "metadata": {
        "colab": {
          "base_uri": "https://localhost:8080/"
        },
        "id": "gu_o6xk8p35k",
        "outputId": "b3d1d016-ba82-44b4-a3b5-6f748ec2a100"
      },
      "source": [
        "rng = pd.date_range(start=\"2017-08-22 09:00:00\",periods=10, freq='30min')\n",
        "s = pd.Series(range(10),index=rng)\n",
        "s"
      ],
      "execution_count": 11,
      "outputs": [
        {
          "output_type": "execute_result",
          "data": {
            "text/plain": [
              "2017-08-22 09:00:00    0\n",
              "2017-08-22 09:30:00    1\n",
              "2017-08-22 10:00:00    2\n",
              "2017-08-22 10:30:00    3\n",
              "2017-08-22 11:00:00    4\n",
              "2017-08-22 11:30:00    5\n",
              "2017-08-22 12:00:00    6\n",
              "2017-08-22 12:30:00    7\n",
              "2017-08-22 13:00:00    8\n",
              "2017-08-22 13:30:00    9\n",
              "Freq: 30T, dtype: int64"
            ]
          },
          "metadata": {},
          "execution_count": 11
        }
      ]
    },
    {
      "cell_type": "code",
      "metadata": {
        "colab": {
          "base_uri": "https://localhost:8080/"
        },
        "id": "xsuRlIltqoYv",
        "outputId": "0ca61bd7-4eee-4157-cf49-615047f9373e"
      },
      "source": [
        "b = s.tz_localize(tz=\"Europe/Berlin\")\n",
        "b"
      ],
      "execution_count": 12,
      "outputs": [
        {
          "output_type": "execute_result",
          "data": {
            "text/plain": [
              "2017-08-22 09:00:00+02:00    0\n",
              "2017-08-22 09:30:00+02:00    1\n",
              "2017-08-22 10:00:00+02:00    2\n",
              "2017-08-22 10:30:00+02:00    3\n",
              "2017-08-22 11:00:00+02:00    4\n",
              "2017-08-22 11:30:00+02:00    5\n",
              "2017-08-22 12:00:00+02:00    6\n",
              "2017-08-22 12:30:00+02:00    7\n",
              "2017-08-22 13:00:00+02:00    8\n",
              "2017-08-22 13:30:00+02:00    9\n",
              "dtype: int64"
            ]
          },
          "metadata": {},
          "execution_count": 12
        }
      ]
    },
    {
      "cell_type": "code",
      "metadata": {
        "colab": {
          "base_uri": "https://localhost:8080/"
        },
        "id": "yFUGxm8IqocV",
        "outputId": "3d1946e5-47d0-4b26-85e9-dfc508ab4e3e"
      },
      "source": [
        "b.index"
      ],
      "execution_count": 13,
      "outputs": [
        {
          "output_type": "execute_result",
          "data": {
            "text/plain": [
              "DatetimeIndex(['2017-08-22 09:00:00+02:00', '2017-08-22 09:30:00+02:00',\n",
              "               '2017-08-22 10:00:00+02:00', '2017-08-22 10:30:00+02:00',\n",
              "               '2017-08-22 11:00:00+02:00', '2017-08-22 11:30:00+02:00',\n",
              "               '2017-08-22 12:00:00+02:00', '2017-08-22 12:30:00+02:00',\n",
              "               '2017-08-22 13:00:00+02:00', '2017-08-22 13:30:00+02:00'],\n",
              "              dtype='datetime64[ns, Europe/Berlin]', freq=None)"
            ]
          },
          "metadata": {},
          "execution_count": 13
        }
      ]
    },
    {
      "cell_type": "code",
      "metadata": {
        "colab": {
          "base_uri": "https://localhost:8080/"
        },
        "id": "qdd579FPp384",
        "outputId": "6fbf4a45-9672-49fc-9863-7f8629b03c5d"
      },
      "source": [
        "m = s.tz_localize(tz=\"Asia/Calcutta\")\n",
        "m.index"
      ],
      "execution_count": 14,
      "outputs": [
        {
          "output_type": "execute_result",
          "data": {
            "text/plain": [
              "DatetimeIndex(['2017-08-22 09:00:00+05:30', '2017-08-22 09:30:00+05:30',\n",
              "               '2017-08-22 10:00:00+05:30', '2017-08-22 10:30:00+05:30',\n",
              "               '2017-08-22 11:00:00+05:30', '2017-08-22 11:30:00+05:30',\n",
              "               '2017-08-22 12:00:00+05:30', '2017-08-22 12:30:00+05:30',\n",
              "               '2017-08-22 13:00:00+05:30', '2017-08-22 13:30:00+05:30'],\n",
              "              dtype='datetime64[ns, Asia/Calcutta]', freq=None)"
            ]
          },
          "metadata": {},
          "execution_count": 14
        }
      ]
    },
    {
      "cell_type": "code",
      "metadata": {
        "colab": {
          "base_uri": "https://localhost:8080/"
        },
        "id": "2B90X4xMp4AG",
        "outputId": "4fcfd6ee-2e78-4343-bc23-6e8418dd8ce2"
      },
      "source": [
        "m"
      ],
      "execution_count": 15,
      "outputs": [
        {
          "output_type": "execute_result",
          "data": {
            "text/plain": [
              "2017-08-22 09:00:00+05:30    0\n",
              "2017-08-22 09:30:00+05:30    1\n",
              "2017-08-22 10:00:00+05:30    2\n",
              "2017-08-22 10:30:00+05:30    3\n",
              "2017-08-22 11:00:00+05:30    4\n",
              "2017-08-22 11:30:00+05:30    5\n",
              "2017-08-22 12:00:00+05:30    6\n",
              "2017-08-22 12:30:00+05:30    7\n",
              "2017-08-22 13:00:00+05:30    8\n",
              "2017-08-22 13:30:00+05:30    9\n",
              "dtype: int64"
            ]
          },
          "metadata": {},
          "execution_count": 15
        }
      ]
    },
    {
      "cell_type": "code",
      "metadata": {
        "colab": {
          "base_uri": "https://localhost:8080/"
        },
        "id": "XDfCxc1Xq4m2",
        "outputId": "570fb9b0-09c6-42fe-b87c-d105a02de8bd"
      },
      "source": [
        "b + m"
      ],
      "execution_count": 16,
      "outputs": [
        {
          "output_type": "execute_result",
          "data": {
            "text/plain": [
              "2017-08-22 03:30:00+00:00     NaN\n",
              "2017-08-22 04:00:00+00:00     NaN\n",
              "2017-08-22 04:30:00+00:00     NaN\n",
              "2017-08-22 05:00:00+00:00     NaN\n",
              "2017-08-22 05:30:00+00:00     NaN\n",
              "2017-08-22 06:00:00+00:00     NaN\n",
              "2017-08-22 06:30:00+00:00     NaN\n",
              "2017-08-22 07:00:00+00:00     7.0\n",
              "2017-08-22 07:30:00+00:00     9.0\n",
              "2017-08-22 08:00:00+00:00    11.0\n",
              "2017-08-22 08:30:00+00:00     NaN\n",
              "2017-08-22 09:00:00+00:00     NaN\n",
              "2017-08-22 09:30:00+00:00     NaN\n",
              "2017-08-22 10:00:00+00:00     NaN\n",
              "2017-08-22 10:30:00+00:00     NaN\n",
              "2017-08-22 11:00:00+00:00     NaN\n",
              "2017-08-22 11:30:00+00:00     NaN\n",
              "dtype: float64"
            ]
          },
          "metadata": {},
          "execution_count": 16
        }
      ]
    }
  ]
}