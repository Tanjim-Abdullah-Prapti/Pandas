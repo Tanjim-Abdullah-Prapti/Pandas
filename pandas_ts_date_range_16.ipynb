{
  "nbformat": 4,
  "nbformat_minor": 0,
  "metadata": {
    "colab": {
      "name": "pandas_ts_date_range.ipynb",
      "provenance": []
    },
    "kernelspec": {
      "name": "python3",
      "display_name": "Python 3"
    },
    "language_info": {
      "name": "python"
    }
  },
  "cells": [
    {
      "cell_type": "code",
      "metadata": {
        "id": "sX0SEkWrb8Rl"
      },
      "source": [
        "import pandas as pd"
      ],
      "execution_count": 1,
      "outputs": []
    },
    {
      "cell_type": "code",
      "metadata": {
        "colab": {
          "base_uri": "https://localhost:8080/",
          "height": 203
        },
        "id": "QGXfQOoqdM7a",
        "outputId": "b92502c5-123c-4c7d-8b5f-a55ab5722a7c"
      },
      "source": [
        "df = pd.read_csv(\"aapl_no_dates_16.csv\")\n",
        "df.head()"
      ],
      "execution_count": 3,
      "outputs": [
        {
          "output_type": "execute_result",
          "data": {
            "text/html": [
              "<div>\n",
              "<style scoped>\n",
              "    .dataframe tbody tr th:only-of-type {\n",
              "        vertical-align: middle;\n",
              "    }\n",
              "\n",
              "    .dataframe tbody tr th {\n",
              "        vertical-align: top;\n",
              "    }\n",
              "\n",
              "    .dataframe thead th {\n",
              "        text-align: right;\n",
              "    }\n",
              "</style>\n",
              "<table border=\"1\" class=\"dataframe\">\n",
              "  <thead>\n",
              "    <tr style=\"text-align: right;\">\n",
              "      <th></th>\n",
              "      <th>Open</th>\n",
              "      <th>High</th>\n",
              "      <th>Low</th>\n",
              "      <th>Close</th>\n",
              "      <th>Volume</th>\n",
              "      <th>Unnamed: 5</th>\n",
              "    </tr>\n",
              "  </thead>\n",
              "  <tbody>\n",
              "    <tr>\n",
              "      <th>0</th>\n",
              "      <td>153.17</td>\n",
              "      <td>153.33</td>\n",
              "      <td>152.22</td>\n",
              "      <td>153.18</td>\n",
              "      <td>16404088</td>\n",
              "      <td>NaN</td>\n",
              "    </tr>\n",
              "    <tr>\n",
              "      <th>1</th>\n",
              "      <td>153.58</td>\n",
              "      <td>155.45</td>\n",
              "      <td>152.89</td>\n",
              "      <td>155.45</td>\n",
              "      <td>27770715</td>\n",
              "      <td>NaN</td>\n",
              "    </tr>\n",
              "    <tr>\n",
              "      <th>2</th>\n",
              "      <td>154.34</td>\n",
              "      <td>154.45</td>\n",
              "      <td>153.46</td>\n",
              "      <td>153.93</td>\n",
              "      <td>25331662</td>\n",
              "      <td>NaN</td>\n",
              "    </tr>\n",
              "    <tr>\n",
              "      <th>3</th>\n",
              "      <td>153.90</td>\n",
              "      <td>155.81</td>\n",
              "      <td>153.78</td>\n",
              "      <td>154.45</td>\n",
              "      <td>26624926</td>\n",
              "      <td>NaN</td>\n",
              "    </tr>\n",
              "    <tr>\n",
              "      <th>4</th>\n",
              "      <td>155.02</td>\n",
              "      <td>155.98</td>\n",
              "      <td>154.48</td>\n",
              "      <td>155.37</td>\n",
              "      <td>21069647</td>\n",
              "      <td>NaN</td>\n",
              "    </tr>\n",
              "  </tbody>\n",
              "</table>\n",
              "</div>"
            ],
            "text/plain": [
              "     Open    High     Low   Close    Volume  Unnamed: 5\n",
              "0  153.17  153.33  152.22  153.18  16404088         NaN\n",
              "1  153.58  155.45  152.89  155.45  27770715         NaN\n",
              "2  154.34  154.45  153.46  153.93  25331662         NaN\n",
              "3  153.90  155.81  153.78  154.45  26624926         NaN\n",
              "4  155.02  155.98  154.48  155.37  21069647         NaN"
            ]
          },
          "metadata": {},
          "execution_count": 3
        }
      ]
    },
    {
      "cell_type": "code",
      "metadata": {
        "colab": {
          "base_uri": "https://localhost:8080/"
        },
        "id": "11t7E7ApdM-S",
        "outputId": "da2dda8f-0b76-48bf-9d59-c8442265de59"
      },
      "source": [
        "rng = pd.date_range(start=\"6/1/2016\",end=\"6/30/2016\",freq='B')\n",
        "rng"
      ],
      "execution_count": 4,
      "outputs": [
        {
          "output_type": "execute_result",
          "data": {
            "text/plain": [
              "DatetimeIndex(['2016-06-01', '2016-06-02', '2016-06-03', '2016-06-06',\n",
              "               '2016-06-07', '2016-06-08', '2016-06-09', '2016-06-10',\n",
              "               '2016-06-13', '2016-06-14', '2016-06-15', '2016-06-16',\n",
              "               '2016-06-17', '2016-06-20', '2016-06-21', '2016-06-22',\n",
              "               '2016-06-23', '2016-06-24', '2016-06-27', '2016-06-28',\n",
              "               '2016-06-29', '2016-06-30'],\n",
              "              dtype='datetime64[ns]', freq='B')"
            ]
          },
          "metadata": {},
          "execution_count": 4
        }
      ]
    },
    {
      "cell_type": "code",
      "metadata": {
        "colab": {
          "base_uri": "https://localhost:8080/",
          "height": 203
        },
        "id": "iXAcCLCbdNBK",
        "outputId": "fc93d1a2-083b-4a1e-e0f9-da90c2f607b7"
      },
      "source": [
        "df.set_index(rng, inplace=True)\n",
        "df.head()"
      ],
      "execution_count": 5,
      "outputs": [
        {
          "output_type": "execute_result",
          "data": {
            "text/html": [
              "<div>\n",
              "<style scoped>\n",
              "    .dataframe tbody tr th:only-of-type {\n",
              "        vertical-align: middle;\n",
              "    }\n",
              "\n",
              "    .dataframe tbody tr th {\n",
              "        vertical-align: top;\n",
              "    }\n",
              "\n",
              "    .dataframe thead th {\n",
              "        text-align: right;\n",
              "    }\n",
              "</style>\n",
              "<table border=\"1\" class=\"dataframe\">\n",
              "  <thead>\n",
              "    <tr style=\"text-align: right;\">\n",
              "      <th></th>\n",
              "      <th>Open</th>\n",
              "      <th>High</th>\n",
              "      <th>Low</th>\n",
              "      <th>Close</th>\n",
              "      <th>Volume</th>\n",
              "      <th>Unnamed: 5</th>\n",
              "    </tr>\n",
              "  </thead>\n",
              "  <tbody>\n",
              "    <tr>\n",
              "      <th>2016-06-01</th>\n",
              "      <td>153.17</td>\n",
              "      <td>153.33</td>\n",
              "      <td>152.22</td>\n",
              "      <td>153.18</td>\n",
              "      <td>16404088</td>\n",
              "      <td>NaN</td>\n",
              "    </tr>\n",
              "    <tr>\n",
              "      <th>2016-06-02</th>\n",
              "      <td>153.58</td>\n",
              "      <td>155.45</td>\n",
              "      <td>152.89</td>\n",
              "      <td>155.45</td>\n",
              "      <td>27770715</td>\n",
              "      <td>NaN</td>\n",
              "    </tr>\n",
              "    <tr>\n",
              "      <th>2016-06-03</th>\n",
              "      <td>154.34</td>\n",
              "      <td>154.45</td>\n",
              "      <td>153.46</td>\n",
              "      <td>153.93</td>\n",
              "      <td>25331662</td>\n",
              "      <td>NaN</td>\n",
              "    </tr>\n",
              "    <tr>\n",
              "      <th>2016-06-06</th>\n",
              "      <td>153.90</td>\n",
              "      <td>155.81</td>\n",
              "      <td>153.78</td>\n",
              "      <td>154.45</td>\n",
              "      <td>26624926</td>\n",
              "      <td>NaN</td>\n",
              "    </tr>\n",
              "    <tr>\n",
              "      <th>2016-06-07</th>\n",
              "      <td>155.02</td>\n",
              "      <td>155.98</td>\n",
              "      <td>154.48</td>\n",
              "      <td>155.37</td>\n",
              "      <td>21069647</td>\n",
              "      <td>NaN</td>\n",
              "    </tr>\n",
              "  </tbody>\n",
              "</table>\n",
              "</div>"
            ],
            "text/plain": [
              "              Open    High     Low   Close    Volume  Unnamed: 5\n",
              "2016-06-01  153.17  153.33  152.22  153.18  16404088         NaN\n",
              "2016-06-02  153.58  155.45  152.89  155.45  27770715         NaN\n",
              "2016-06-03  154.34  154.45  153.46  153.93  25331662         NaN\n",
              "2016-06-06  153.90  155.81  153.78  154.45  26624926         NaN\n",
              "2016-06-07  155.02  155.98  154.48  155.37  21069647         NaN"
            ]
          },
          "metadata": {},
          "execution_count": 5
        }
      ]
    },
    {
      "cell_type": "code",
      "metadata": {
        "colab": {
          "base_uri": "https://localhost:8080/",
          "height": 203
        },
        "id": "CORPTNR1dND5",
        "outputId": "fd0abdb1-df8d-467d-e53b-edd040454ae0"
      },
      "source": [
        "df.set_index(rng, inplace=True)\n",
        "df.head()"
      ],
      "execution_count": 6,
      "outputs": [
        {
          "output_type": "execute_result",
          "data": {
            "text/html": [
              "<div>\n",
              "<style scoped>\n",
              "    .dataframe tbody tr th:only-of-type {\n",
              "        vertical-align: middle;\n",
              "    }\n",
              "\n",
              "    .dataframe tbody tr th {\n",
              "        vertical-align: top;\n",
              "    }\n",
              "\n",
              "    .dataframe thead th {\n",
              "        text-align: right;\n",
              "    }\n",
              "</style>\n",
              "<table border=\"1\" class=\"dataframe\">\n",
              "  <thead>\n",
              "    <tr style=\"text-align: right;\">\n",
              "      <th></th>\n",
              "      <th>Open</th>\n",
              "      <th>High</th>\n",
              "      <th>Low</th>\n",
              "      <th>Close</th>\n",
              "      <th>Volume</th>\n",
              "      <th>Unnamed: 5</th>\n",
              "    </tr>\n",
              "  </thead>\n",
              "  <tbody>\n",
              "    <tr>\n",
              "      <th>2016-06-01</th>\n",
              "      <td>153.17</td>\n",
              "      <td>153.33</td>\n",
              "      <td>152.22</td>\n",
              "      <td>153.18</td>\n",
              "      <td>16404088</td>\n",
              "      <td>NaN</td>\n",
              "    </tr>\n",
              "    <tr>\n",
              "      <th>2016-06-02</th>\n",
              "      <td>153.58</td>\n",
              "      <td>155.45</td>\n",
              "      <td>152.89</td>\n",
              "      <td>155.45</td>\n",
              "      <td>27770715</td>\n",
              "      <td>NaN</td>\n",
              "    </tr>\n",
              "    <tr>\n",
              "      <th>2016-06-03</th>\n",
              "      <td>154.34</td>\n",
              "      <td>154.45</td>\n",
              "      <td>153.46</td>\n",
              "      <td>153.93</td>\n",
              "      <td>25331662</td>\n",
              "      <td>NaN</td>\n",
              "    </tr>\n",
              "    <tr>\n",
              "      <th>2016-06-06</th>\n",
              "      <td>153.90</td>\n",
              "      <td>155.81</td>\n",
              "      <td>153.78</td>\n",
              "      <td>154.45</td>\n",
              "      <td>26624926</td>\n",
              "      <td>NaN</td>\n",
              "    </tr>\n",
              "    <tr>\n",
              "      <th>2016-06-07</th>\n",
              "      <td>155.02</td>\n",
              "      <td>155.98</td>\n",
              "      <td>154.48</td>\n",
              "      <td>155.37</td>\n",
              "      <td>21069647</td>\n",
              "      <td>NaN</td>\n",
              "    </tr>\n",
              "  </tbody>\n",
              "</table>\n",
              "</div>"
            ],
            "text/plain": [
              "              Open    High     Low   Close    Volume  Unnamed: 5\n",
              "2016-06-01  153.17  153.33  152.22  153.18  16404088         NaN\n",
              "2016-06-02  153.58  155.45  152.89  155.45  27770715         NaN\n",
              "2016-06-03  154.34  154.45  153.46  153.93  25331662         NaN\n",
              "2016-06-06  153.90  155.81  153.78  154.45  26624926         NaN\n",
              "2016-06-07  155.02  155.98  154.48  155.37  21069647         NaN"
            ]
          },
          "metadata": {},
          "execution_count": 6
        }
      ]
    },
    {
      "cell_type": "code",
      "metadata": {
        "colab": {
          "base_uri": "https://localhost:8080/"
        },
        "id": "dmEOeKY-e5mK",
        "outputId": "98825f2a-c9be-435f-b5d4-d901c3677112"
      },
      "source": [
        "daily_index = pd.date_range(start=\"6/1/2016\",end=\"6/30/2016\",freq='D')\n",
        "daily_index"
      ],
      "execution_count": 8,
      "outputs": [
        {
          "output_type": "execute_result",
          "data": {
            "text/plain": [
              "DatetimeIndex(['2016-06-01', '2016-06-02', '2016-06-03', '2016-06-04',\n",
              "               '2016-06-05', '2016-06-06', '2016-06-07', '2016-06-08',\n",
              "               '2016-06-09', '2016-06-10', '2016-06-11', '2016-06-12',\n",
              "               '2016-06-13', '2016-06-14', '2016-06-15', '2016-06-16',\n",
              "               '2016-06-17', '2016-06-18', '2016-06-19', '2016-06-20',\n",
              "               '2016-06-21', '2016-06-22', '2016-06-23', '2016-06-24',\n",
              "               '2016-06-25', '2016-06-26', '2016-06-27', '2016-06-28',\n",
              "               '2016-06-29', '2016-06-30'],\n",
              "              dtype='datetime64[ns]', freq='D')"
            ]
          },
          "metadata": {},
          "execution_count": 8
        }
      ]
    },
    {
      "cell_type": "code",
      "metadata": {
        "colab": {
          "base_uri": "https://localhost:8080/"
        },
        "id": "ybcnF-E3dNGp",
        "outputId": "f9bf8844-f882-4c26-b940-a60d32792f4b"
      },
      "source": [
        "daily_index.difference(df.index)"
      ],
      "execution_count": 9,
      "outputs": [
        {
          "output_type": "execute_result",
          "data": {
            "text/plain": [
              "DatetimeIndex(['2016-06-04', '2016-06-05', '2016-06-11', '2016-06-12',\n",
              "               '2016-06-18', '2016-06-19', '2016-06-25', '2016-06-26'],\n",
              "              dtype='datetime64[ns]', freq=None)"
            ]
          },
          "metadata": {},
          "execution_count": 9
        }
      ]
    },
    {
      "cell_type": "code",
      "metadata": {
        "colab": {
          "base_uri": "https://localhost:8080/",
          "height": 320
        },
        "id": "kXogBbbfdNMZ",
        "outputId": "32d7e895-fa46-443c-8159-3c843a286fb6"
      },
      "source": [
        "%matplotlib inline\n",
        "df.Close.plot()"
      ],
      "execution_count": 10,
      "outputs": [
        {
          "output_type": "execute_result",
          "data": {
            "text/plain": [
              "<matplotlib.axes._subplots.AxesSubplot at 0x7fa662610350>"
            ]
          },
          "metadata": {},
          "execution_count": 10
        },
        {
          "output_type": "display_data",
          "data": {
            "image/png": "[encoded data removed]",
            "text/plain": [
              "<Figure size 432x288 with 1 Axes>"
            ]
          },
          "metadata": {
            "needs_background": "light"
          }
        }
      ]
    },
    {
      "cell_type": "code",
      "metadata": {
        "colab": {
          "base_uri": "https://localhost:8080/"
        },
        "id": "dbfo2L4zfAhZ",
        "outputId": "630deeb4-a5cb-4c7b-8870-3908a0a5cc91"
      },
      "source": [
        "df[\"2016-06-01\":\"2016-06-10\"].Close.mean()"
      ],
      "execution_count": 11,
      "outputs": [
        {
          "output_type": "execute_result",
          "data": {
            "text/plain": [
              "152.72125"
            ]
          },
          "metadata": {},
          "execution_count": 11
        }
      ]
    },
    {
      "cell_type": "code",
      "metadata": {
        "colab": {
          "base_uri": "https://localhost:8080/"
        },
        "id": "8Ej1Jj2xfAkR",
        "outputId": "43776283-b485-4172-92bc-5b91e5669254"
      },
      "source": [
        "df.index"
      ],
      "execution_count": 12,
      "outputs": [
        {
          "output_type": "execute_result",
          "data": {
            "text/plain": [
              "DatetimeIndex(['2016-06-01', '2016-06-02', '2016-06-03', '2016-06-06',\n",
              "               '2016-06-07', '2016-06-08', '2016-06-09', '2016-06-10',\n",
              "               '2016-06-13', '2016-06-14', '2016-06-15', '2016-06-16',\n",
              "               '2016-06-17', '2016-06-20', '2016-06-21', '2016-06-22',\n",
              "               '2016-06-23', '2016-06-24', '2016-06-27', '2016-06-28',\n",
              "               '2016-06-29', '2016-06-30'],\n",
              "              dtype='datetime64[ns]', freq='B')"
            ]
          },
          "metadata": {},
          "execution_count": 12
        }
      ]
    },
    {
      "cell_type": "code",
      "metadata": {
        "colab": {
          "base_uri": "https://localhost:8080/",
          "height": 973
        },
        "id": "M9Dr53RXdNPS",
        "outputId": "c8da119d-b5f9-418a-9221-a4c3c66de611"
      },
      "source": [
        "df.asfreq('D',method='pad')"
      ],
      "execution_count": 13,
      "outputs": [
        {
          "output_type": "execute_result",
          "data": {
            "text/html": [
              "<div>\n",
              "<style scoped>\n",
              "    .dataframe tbody tr th:only-of-type {\n",
              "        vertical-align: middle;\n",
              "    }\n",
              "\n",
              "    .dataframe tbody tr th {\n",
              "        vertical-align: top;\n",
              "    }\n",
              "\n",
              "    .dataframe thead th {\n",
              "        text-align: right;\n",
              "    }\n",
              "</style>\n",
              "<table border=\"1\" class=\"dataframe\">\n",
              "  <thead>\n",
              "    <tr style=\"text-align: right;\">\n",
              "      <th></th>\n",
              "      <th>Open</th>\n",
              "      <th>High</th>\n",
              "      <th>Low</th>\n",
              "      <th>Close</th>\n",
              "      <th>Volume</th>\n",
              "      <th>Unnamed: 5</th>\n",
              "    </tr>\n",
              "  </thead>\n",
              "  <tbody>\n",
              "    <tr>\n",
              "      <th>2016-06-01</th>\n",
              "      <td>153.17</td>\n",
              "      <td>153.33</td>\n",
              "      <td>152.22</td>\n",
              "      <td>153.18</td>\n",
              "      <td>16404088</td>\n",
              "      <td>NaN</td>\n",
              "    </tr>\n",
              "    <tr>\n",
              "      <th>2016-06-02</th>\n",
              "      <td>153.58</td>\n",
              "      <td>155.45</td>\n",
              "      <td>152.89</td>\n",
              "      <td>155.45</td>\n",
              "      <td>27770715</td>\n",
              "      <td>NaN</td>\n",
              "    </tr>\n",
              "    <tr>\n",
              "      <th>2016-06-03</th>\n",
              "      <td>154.34</td>\n",
              "      <td>154.45</td>\n",
              "      <td>153.46</td>\n",
              "      <td>153.93</td>\n",
              "      <td>25331662</td>\n",
              "      <td>NaN</td>\n",
              "    </tr>\n",
              "    <tr>\n",
              "      <th>2016-06-04</th>\n",
              "      <td>154.34</td>\n",
              "      <td>154.45</td>\n",
              "      <td>153.46</td>\n",
              "      <td>153.93</td>\n",
              "      <td>25331662</td>\n",
              "      <td>NaN</td>\n",
              "    </tr>\n",
              "    <tr>\n",
              "      <th>2016-06-05</th>\n",
              "      <td>154.34</td>\n",
              "      <td>154.45</td>\n",
              "      <td>153.46</td>\n",
              "      <td>153.93</td>\n",
              "      <td>25331662</td>\n",
              "      <td>NaN</td>\n",
              "    </tr>\n",
              "    <tr>\n",
              "      <th>2016-06-06</th>\n",
              "      <td>153.90</td>\n",
              "      <td>155.81</td>\n",
              "      <td>153.78</td>\n",
              "      <td>154.45</td>\n",
              "      <td>26624926</td>\n",
              "      <td>NaN</td>\n",
              "    </tr>\n",
              "    <tr>\n",
              "      <th>2016-06-07</th>\n",
              "      <td>155.02</td>\n",
              "      <td>155.98</td>\n",
              "      <td>154.48</td>\n",
              "      <td>155.37</td>\n",
              "      <td>21069647</td>\n",
              "      <td>NaN</td>\n",
              "    </tr>\n",
              "    <tr>\n",
              "      <th>2016-06-08</th>\n",
              "      <td>155.25</td>\n",
              "      <td>155.54</td>\n",
              "      <td>154.40</td>\n",
              "      <td>154.99</td>\n",
              "      <td>21250798</td>\n",
              "      <td>NaN</td>\n",
              "    </tr>\n",
              "    <tr>\n",
              "      <th>2016-06-09</th>\n",
              "      <td>155.19</td>\n",
              "      <td>155.19</td>\n",
              "      <td>146.02</td>\n",
              "      <td>148.98</td>\n",
              "      <td>64882657</td>\n",
              "      <td>NaN</td>\n",
              "    </tr>\n",
              "    <tr>\n",
              "      <th>2016-06-10</th>\n",
              "      <td>145.74</td>\n",
              "      <td>146.09</td>\n",
              "      <td>142.51</td>\n",
              "      <td>145.42</td>\n",
              "      <td>72307330</td>\n",
              "      <td>NaN</td>\n",
              "    </tr>\n",
              "    <tr>\n",
              "      <th>2016-06-11</th>\n",
              "      <td>145.74</td>\n",
              "      <td>146.09</td>\n",
              "      <td>142.51</td>\n",
              "      <td>145.42</td>\n",
              "      <td>72307330</td>\n",
              "      <td>NaN</td>\n",
              "    </tr>\n",
              "    <tr>\n",
              "      <th>2016-06-12</th>\n",
              "      <td>145.74</td>\n",
              "      <td>146.09</td>\n",
              "      <td>142.51</td>\n",
              "      <td>145.42</td>\n",
              "      <td>72307330</td>\n",
              "      <td>NaN</td>\n",
              "    </tr>\n",
              "    <tr>\n",
              "      <th>2016-06-13</th>\n",
              "      <td>147.16</td>\n",
              "      <td>147.45</td>\n",
              "      <td>145.15</td>\n",
              "      <td>146.59</td>\n",
              "      <td>34165445</td>\n",
              "      <td>NaN</td>\n",
              "    </tr>\n",
              "    <tr>\n",
              "      <th>2016-06-14</th>\n",
              "      <td>147.50</td>\n",
              "      <td>147.50</td>\n",
              "      <td>143.84</td>\n",
              "      <td>145.16</td>\n",
              "      <td>31531232</td>\n",
              "      <td>NaN</td>\n",
              "    </tr>\n",
              "    <tr>\n",
              "      <th>2016-06-15</th>\n",
              "      <td>143.32</td>\n",
              "      <td>144.48</td>\n",
              "      <td>142.21</td>\n",
              "      <td>144.29</td>\n",
              "      <td>32165373</td>\n",
              "      <td>NaN</td>\n",
              "    </tr>\n",
              "    <tr>\n",
              "      <th>2016-06-16</th>\n",
              "      <td>143.78</td>\n",
              "      <td>144.50</td>\n",
              "      <td>142.20</td>\n",
              "      <td>142.27</td>\n",
              "      <td>50361093</td>\n",
              "      <td>NaN</td>\n",
              "    </tr>\n",
              "    <tr>\n",
              "      <th>2016-06-17</th>\n",
              "      <td>143.66</td>\n",
              "      <td>146.74</td>\n",
              "      <td>143.66</td>\n",
              "      <td>146.34</td>\n",
              "      <td>32541404</td>\n",
              "      <td>NaN</td>\n",
              "    </tr>\n",
              "    <tr>\n",
              "      <th>2016-06-18</th>\n",
              "      <td>143.66</td>\n",
              "      <td>146.74</td>\n",
              "      <td>143.66</td>\n",
              "      <td>146.34</td>\n",
              "      <td>32541404</td>\n",
              "      <td>NaN</td>\n",
              "    </tr>\n",
              "    <tr>\n",
              "      <th>2016-06-19</th>\n",
              "      <td>143.66</td>\n",
              "      <td>146.74</td>\n",
              "      <td>143.66</td>\n",
              "      <td>146.34</td>\n",
              "      <td>32541404</td>\n",
              "      <td>NaN</td>\n",
              "    </tr>\n",
              "    <tr>\n",
              "      <th>2016-06-20</th>\n",
              "      <td>146.87</td>\n",
              "      <td>146.87</td>\n",
              "      <td>144.94</td>\n",
              "      <td>145.01</td>\n",
              "      <td>24900073</td>\n",
              "      <td>NaN</td>\n",
              "    </tr>\n",
              "    <tr>\n",
              "      <th>2016-06-21</th>\n",
              "      <td>145.52</td>\n",
              "      <td>146.07</td>\n",
              "      <td>144.61</td>\n",
              "      <td>145.87</td>\n",
              "      <td>21265751</td>\n",
              "      <td>NaN</td>\n",
              "    </tr>\n",
              "    <tr>\n",
              "      <th>2016-06-22</th>\n",
              "      <td>145.77</td>\n",
              "      <td>146.70</td>\n",
              "      <td>145.12</td>\n",
              "      <td>145.63</td>\n",
              "      <td>19106294</td>\n",
              "      <td>NaN</td>\n",
              "    </tr>\n",
              "    <tr>\n",
              "      <th>2016-06-23</th>\n",
              "      <td>145.13</td>\n",
              "      <td>147.16</td>\n",
              "      <td>145.11</td>\n",
              "      <td>146.28</td>\n",
              "      <td>35439389</td>\n",
              "      <td>NaN</td>\n",
              "    </tr>\n",
              "    <tr>\n",
              "      <th>2016-06-24</th>\n",
              "      <td>147.17</td>\n",
              "      <td>148.28</td>\n",
              "      <td>145.38</td>\n",
              "      <td>145.82</td>\n",
              "      <td>25692361</td>\n",
              "      <td>NaN</td>\n",
              "    </tr>\n",
              "    <tr>\n",
              "      <th>2016-06-25</th>\n",
              "      <td>147.17</td>\n",
              "      <td>148.28</td>\n",
              "      <td>145.38</td>\n",
              "      <td>145.82</td>\n",
              "      <td>25692361</td>\n",
              "      <td>NaN</td>\n",
              "    </tr>\n",
              "    <tr>\n",
              "      <th>2016-06-26</th>\n",
              "      <td>147.17</td>\n",
              "      <td>148.28</td>\n",
              "      <td>145.38</td>\n",
              "      <td>145.82</td>\n",
              "      <td>25692361</td>\n",
              "      <td>NaN</td>\n",
              "    </tr>\n",
              "    <tr>\n",
              "      <th>2016-06-27</th>\n",
              "      <td>145.01</td>\n",
              "      <td>146.16</td>\n",
              "      <td>143.62</td>\n",
              "      <td>143.73</td>\n",
              "      <td>24761891</td>\n",
              "      <td>NaN</td>\n",
              "    </tr>\n",
              "    <tr>\n",
              "      <th>2016-06-28</th>\n",
              "      <td>144.49</td>\n",
              "      <td>146.11</td>\n",
              "      <td>143.16</td>\n",
              "      <td>145.83</td>\n",
              "      <td>22082432</td>\n",
              "      <td>NaN</td>\n",
              "    </tr>\n",
              "    <tr>\n",
              "      <th>2016-06-29</th>\n",
              "      <td>144.71</td>\n",
              "      <td>145.13</td>\n",
              "      <td>142.28</td>\n",
              "      <td>143.68</td>\n",
              "      <td>31499368</td>\n",
              "      <td>NaN</td>\n",
              "    </tr>\n",
              "    <tr>\n",
              "      <th>2016-06-30</th>\n",
              "      <td>144.45</td>\n",
              "      <td>144.96</td>\n",
              "      <td>143.78</td>\n",
              "      <td>144.02</td>\n",
              "      <td>23024107</td>\n",
              "      <td>NaN</td>\n",
              "    </tr>\n",
              "  </tbody>\n",
              "</table>\n",
              "</div>"
            ],
            "text/plain": [
              "              Open    High     Low   Close    Volume  Unnamed: 5\n",
              "2016-06-01  153.17  153.33  152.22  153.18  16404088         NaN\n",
              "2016-06-02  153.58  155.45  152.89  155.45  27770715         NaN\n",
              "2016-06-03  154.34  154.45  153.46  153.93  25331662         NaN\n",
              "2016-06-04  154.34  154.45  153.46  153.93  25331662         NaN\n",
              "2016-06-05  154.34  154.45  153.46  153.93  25331662         NaN\n",
              "2016-06-06  153.90  155.81  153.78  154.45  26624926         NaN\n",
              "2016-06-07  155.02  155.98  154.48  155.37  21069647         NaN\n",
              "2016-06-08  155.25  155.54  154.40  154.99  21250798         NaN\n",
              "2016-06-09  155.19  155.19  146.02  148.98  64882657         NaN\n",
              "2016-06-10  145.74  146.09  142.51  145.42  72307330         NaN\n",
              "2016-06-11  145.74  146.09  142.51  145.42  72307330         NaN\n",
              "2016-06-12  145.74  146.09  142.51  145.42  72307330         NaN\n",
              "2016-06-13  147.16  147.45  145.15  146.59  34165445         NaN\n",
              "2016-06-14  147.50  147.50  143.84  145.16  31531232         NaN\n",
              "2016-06-15  143.32  144.48  142.21  144.29  32165373         NaN\n",
              "2016-06-16  143.78  144.50  142.20  142.27  50361093         NaN\n",
              "2016-06-17  143.66  146.74  143.66  146.34  32541404         NaN\n",
              "2016-06-18  143.66  146.74  143.66  146.34  32541404         NaN\n",
              "2016-06-19  143.66  146.74  143.66  146.34  32541404         NaN\n",
              "2016-06-20  146.87  146.87  144.94  145.01  24900073         NaN\n",
              "2016-06-21  145.52  146.07  144.61  145.87  21265751         NaN\n",
              "2016-06-22  145.77  146.70  145.12  145.63  19106294         NaN\n",
              "2016-06-23  145.13  147.16  145.11  146.28  35439389         NaN\n",
              "2016-06-24  147.17  148.28  145.38  145.82  25692361         NaN\n",
              "2016-06-25  147.17  148.28  145.38  145.82  25692361         NaN\n",
              "2016-06-26  147.17  148.28  145.38  145.82  25692361         NaN\n",
              "2016-06-27  145.01  146.16  143.62  143.73  24761891         NaN\n",
              "2016-06-28  144.49  146.11  143.16  145.83  22082432         NaN\n",
              "2016-06-29  144.71  145.13  142.28  143.68  31499368         NaN\n",
              "2016-06-30  144.45  144.96  143.78  144.02  23024107         NaN"
            ]
          },
          "metadata": {},
          "execution_count": 13
        }
      ]
    },
    {
      "cell_type": "code",
      "metadata": {
        "colab": {
          "base_uri": "https://localhost:8080/",
          "height": 172
        },
        "id": "Eo4r_JpXfJbh",
        "outputId": "763281e1-aa3c-4b7d-cc21-9cbf75d29c38"
      },
      "source": [
        "df.asfreq('W',method='pad')"
      ],
      "execution_count": 14,
      "outputs": [
        {
          "output_type": "execute_result",
          "data": {
            "text/html": [
              "<div>\n",
              "<style scoped>\n",
              "    .dataframe tbody tr th:only-of-type {\n",
              "        vertical-align: middle;\n",
              "    }\n",
              "\n",
              "    .dataframe tbody tr th {\n",
              "        vertical-align: top;\n",
              "    }\n",
              "\n",
              "    .dataframe thead th {\n",
              "        text-align: right;\n",
              "    }\n",
              "</style>\n",
              "<table border=\"1\" class=\"dataframe\">\n",
              "  <thead>\n",
              "    <tr style=\"text-align: right;\">\n",
              "      <th></th>\n",
              "      <th>Open</th>\n",
              "      <th>High</th>\n",
              "      <th>Low</th>\n",
              "      <th>Close</th>\n",
              "      <th>Volume</th>\n",
              "      <th>Unnamed: 5</th>\n",
              "    </tr>\n",
              "  </thead>\n",
              "  <tbody>\n",
              "    <tr>\n",
              "      <th>2016-06-05</th>\n",
              "      <td>154.34</td>\n",
              "      <td>154.45</td>\n",
              "      <td>153.46</td>\n",
              "      <td>153.93</td>\n",
              "      <td>25331662</td>\n",
              "      <td>NaN</td>\n",
              "    </tr>\n",
              "    <tr>\n",
              "      <th>2016-06-12</th>\n",
              "      <td>145.74</td>\n",
              "      <td>146.09</td>\n",
              "      <td>142.51</td>\n",
              "      <td>145.42</td>\n",
              "      <td>72307330</td>\n",
              "      <td>NaN</td>\n",
              "    </tr>\n",
              "    <tr>\n",
              "      <th>2016-06-19</th>\n",
              "      <td>143.66</td>\n",
              "      <td>146.74</td>\n",
              "      <td>143.66</td>\n",
              "      <td>146.34</td>\n",
              "      <td>32541404</td>\n",
              "      <td>NaN</td>\n",
              "    </tr>\n",
              "    <tr>\n",
              "      <th>2016-06-26</th>\n",
              "      <td>147.17</td>\n",
              "      <td>148.28</td>\n",
              "      <td>145.38</td>\n",
              "      <td>145.82</td>\n",
              "      <td>25692361</td>\n",
              "      <td>NaN</td>\n",
              "    </tr>\n",
              "  </tbody>\n",
              "</table>\n",
              "</div>"
            ],
            "text/plain": [
              "              Open    High     Low   Close    Volume  Unnamed: 5\n",
              "2016-06-05  154.34  154.45  153.46  153.93  25331662         NaN\n",
              "2016-06-12  145.74  146.09  142.51  145.42  72307330         NaN\n",
              "2016-06-19  143.66  146.74  143.66  146.34  32541404         NaN\n",
              "2016-06-26  147.17  148.28  145.38  145.82  25692361         NaN"
            ]
          },
          "metadata": {},
          "execution_count": 14
        }
      ]
    },
    {
      "cell_type": "code",
      "metadata": {
        "colab": {
          "base_uri": "https://localhost:8080/",
          "height": 417
        },
        "id": "xTzPG42ofJe0",
        "outputId": "24f0f8ef-5792-4da6-e123-56285207dbf8"
      },
      "source": [
        "df.asfreq('H',method='pad')"
      ],
      "execution_count": 15,
      "outputs": [
        {
          "output_type": "execute_result",
          "data": {
            "text/html": [
              "<div>\n",
              "<style scoped>\n",
              "    .dataframe tbody tr th:only-of-type {\n",
              "        vertical-align: middle;\n",
              "    }\n",
              "\n",
              "    .dataframe tbody tr th {\n",
              "        vertical-align: top;\n",
              "    }\n",
              "\n",
              "    .dataframe thead th {\n",
              "        text-align: right;\n",
              "    }\n",
              "</style>\n",
              "<table border=\"1\" class=\"dataframe\">\n",
              "  <thead>\n",
              "    <tr style=\"text-align: right;\">\n",
              "      <th></th>\n",
              "      <th>Open</th>\n",
              "      <th>High</th>\n",
              "      <th>Low</th>\n",
              "      <th>Close</th>\n",
              "      <th>Volume</th>\n",
              "      <th>Unnamed: 5</th>\n",
              "    </tr>\n",
              "  </thead>\n",
              "  <tbody>\n",
              "    <tr>\n",
              "      <th>2016-06-01 00:00:00</th>\n",
              "      <td>153.17</td>\n",
              "      <td>153.33</td>\n",
              "      <td>152.22</td>\n",
              "      <td>153.18</td>\n",
              "      <td>16404088</td>\n",
              "      <td>NaN</td>\n",
              "    </tr>\n",
              "    <tr>\n",
              "      <th>2016-06-01 01:00:00</th>\n",
              "      <td>153.17</td>\n",
              "      <td>153.33</td>\n",
              "      <td>152.22</td>\n",
              "      <td>153.18</td>\n",
              "      <td>16404088</td>\n",
              "      <td>NaN</td>\n",
              "    </tr>\n",
              "    <tr>\n",
              "      <th>2016-06-01 02:00:00</th>\n",
              "      <td>153.17</td>\n",
              "      <td>153.33</td>\n",
              "      <td>152.22</td>\n",
              "      <td>153.18</td>\n",
              "      <td>16404088</td>\n",
              "      <td>NaN</td>\n",
              "    </tr>\n",
              "    <tr>\n",
              "      <th>2016-06-01 03:00:00</th>\n",
              "      <td>153.17</td>\n",
              "      <td>153.33</td>\n",
              "      <td>152.22</td>\n",
              "      <td>153.18</td>\n",
              "      <td>16404088</td>\n",
              "      <td>NaN</td>\n",
              "    </tr>\n",
              "    <tr>\n",
              "      <th>2016-06-01 04:00:00</th>\n",
              "      <td>153.17</td>\n",
              "      <td>153.33</td>\n",
              "      <td>152.22</td>\n",
              "      <td>153.18</td>\n",
              "      <td>16404088</td>\n",
              "      <td>NaN</td>\n",
              "    </tr>\n",
              "    <tr>\n",
              "      <th>...</th>\n",
              "      <td>...</td>\n",
              "      <td>...</td>\n",
              "      <td>...</td>\n",
              "      <td>...</td>\n",
              "      <td>...</td>\n",
              "      <td>...</td>\n",
              "    </tr>\n",
              "    <tr>\n",
              "      <th>2016-06-29 20:00:00</th>\n",
              "      <td>144.71</td>\n",
              "      <td>145.13</td>\n",
              "      <td>142.28</td>\n",
              "      <td>143.68</td>\n",
              "      <td>31499368</td>\n",
              "      <td>NaN</td>\n",
              "    </tr>\n",
              "    <tr>\n",
              "      <th>2016-06-29 21:00:00</th>\n",
              "      <td>144.71</td>\n",
              "      <td>145.13</td>\n",
              "      <td>142.28</td>\n",
              "      <td>143.68</td>\n",
              "      <td>31499368</td>\n",
              "      <td>NaN</td>\n",
              "    </tr>\n",
              "    <tr>\n",
              "      <th>2016-06-29 22:00:00</th>\n",
              "      <td>144.71</td>\n",
              "      <td>145.13</td>\n",
              "      <td>142.28</td>\n",
              "      <td>143.68</td>\n",
              "      <td>31499368</td>\n",
              "      <td>NaN</td>\n",
              "    </tr>\n",
              "    <tr>\n",
              "      <th>2016-06-29 23:00:00</th>\n",
              "      <td>144.71</td>\n",
              "      <td>145.13</td>\n",
              "      <td>142.28</td>\n",
              "      <td>143.68</td>\n",
              "      <td>31499368</td>\n",
              "      <td>NaN</td>\n",
              "    </tr>\n",
              "    <tr>\n",
              "      <th>2016-06-30 00:00:00</th>\n",
              "      <td>144.45</td>\n",
              "      <td>144.96</td>\n",
              "      <td>143.78</td>\n",
              "      <td>144.02</td>\n",
              "      <td>23024107</td>\n",
              "      <td>NaN</td>\n",
              "    </tr>\n",
              "  </tbody>\n",
              "</table>\n",
              "<p>697 rows × 6 columns</p>\n",
              "</div>"
            ],
            "text/plain": [
              "                       Open    High     Low   Close    Volume  Unnamed: 5\n",
              "2016-06-01 00:00:00  153.17  153.33  152.22  153.18  16404088         NaN\n",
              "2016-06-01 01:00:00  153.17  153.33  152.22  153.18  16404088         NaN\n",
              "2016-06-01 02:00:00  153.17  153.33  152.22  153.18  16404088         NaN\n",
              "2016-06-01 03:00:00  153.17  153.33  152.22  153.18  16404088         NaN\n",
              "2016-06-01 04:00:00  153.17  153.33  152.22  153.18  16404088         NaN\n",
              "...                     ...     ...     ...     ...       ...         ...\n",
              "2016-06-29 20:00:00  144.71  145.13  142.28  143.68  31499368         NaN\n",
              "2016-06-29 21:00:00  144.71  145.13  142.28  143.68  31499368         NaN\n",
              "2016-06-29 22:00:00  144.71  145.13  142.28  143.68  31499368         NaN\n",
              "2016-06-29 23:00:00  144.71  145.13  142.28  143.68  31499368         NaN\n",
              "2016-06-30 00:00:00  144.45  144.96  143.78  144.02  23024107         NaN\n",
              "\n",
              "[697 rows x 6 columns]"
            ]
          },
          "metadata": {},
          "execution_count": 15
        }
      ]
    },
    {
      "cell_type": "code",
      "metadata": {
        "colab": {
          "base_uri": "https://localhost:8080/"
        },
        "id": "BdNId-4ofJh6",
        "outputId": "5ab8ffdb-c955-4103-b714-347737bc5154"
      },
      "source": [
        "rng = pd.date_range('1/1/2011', periods=72, freq='H')\n",
        "rng"
      ],
      "execution_count": 16,
      "outputs": [
        {
          "output_type": "execute_result",
          "data": {
            "text/plain": [
              "DatetimeIndex(['2011-01-01 00:00:00', '2011-01-01 01:00:00',\n",
              "               '2011-01-01 02:00:00', '2011-01-01 03:00:00',\n",
              "               '2011-01-01 04:00:00', '2011-01-01 05:00:00',\n",
              "               '2011-01-01 06:00:00', '2011-01-01 07:00:00',\n",
              "               '2011-01-01 08:00:00', '2011-01-01 09:00:00',\n",
              "               '2011-01-01 10:00:00', '2011-01-01 11:00:00',\n",
              "               '2011-01-01 12:00:00', '2011-01-01 13:00:00',\n",
              "               '2011-01-01 14:00:00', '2011-01-01 15:00:00',\n",
              "               '2011-01-01 16:00:00', '2011-01-01 17:00:00',\n",
              "               '2011-01-01 18:00:00', '2011-01-01 19:00:00',\n",
              "               '2011-01-01 20:00:00', '2011-01-01 21:00:00',\n",
              "               '2011-01-01 22:00:00', '2011-01-01 23:00:00',\n",
              "               '2011-01-02 00:00:00', '2011-01-02 01:00:00',\n",
              "               '2011-01-02 02:00:00', '2011-01-02 03:00:00',\n",
              "               '2011-01-02 04:00:00', '2011-01-02 05:00:00',\n",
              "               '2011-01-02 06:00:00', '2011-01-02 07:00:00',\n",
              "               '2011-01-02 08:00:00', '2011-01-02 09:00:00',\n",
              "               '2011-01-02 10:00:00', '2011-01-02 11:00:00',\n",
              "               '2011-01-02 12:00:00', '2011-01-02 13:00:00',\n",
              "               '2011-01-02 14:00:00', '2011-01-02 15:00:00',\n",
              "               '2011-01-02 16:00:00', '2011-01-02 17:00:00',\n",
              "               '2011-01-02 18:00:00', '2011-01-02 19:00:00',\n",
              "               '2011-01-02 20:00:00', '2011-01-02 21:00:00',\n",
              "               '2011-01-02 22:00:00', '2011-01-02 23:00:00',\n",
              "               '2011-01-03 00:00:00', '2011-01-03 01:00:00',\n",
              "               '2011-01-03 02:00:00', '2011-01-03 03:00:00',\n",
              "               '2011-01-03 04:00:00', '2011-01-03 05:00:00',\n",
              "               '2011-01-03 06:00:00', '2011-01-03 07:00:00',\n",
              "               '2011-01-03 08:00:00', '2011-01-03 09:00:00',\n",
              "               '2011-01-03 10:00:00', '2011-01-03 11:00:00',\n",
              "               '2011-01-03 12:00:00', '2011-01-03 13:00:00',\n",
              "               '2011-01-03 14:00:00', '2011-01-03 15:00:00',\n",
              "               '2011-01-03 16:00:00', '2011-01-03 17:00:00',\n",
              "               '2011-01-03 18:00:00', '2011-01-03 19:00:00',\n",
              "               '2011-01-03 20:00:00', '2011-01-03 21:00:00',\n",
              "               '2011-01-03 22:00:00', '2011-01-03 23:00:00'],\n",
              "              dtype='datetime64[ns]', freq='H')"
            ]
          },
          "metadata": {},
          "execution_count": 16
        }
      ]
    },
    {
      "cell_type": "code",
      "metadata": {
        "colab": {
          "base_uri": "https://localhost:8080/"
        },
        "id": "mpLr8ATnfJkp",
        "outputId": "374a7d3c-13c9-4f5a-be46-4d38b341026f"
      },
      "source": [
        "import numpy as np\n",
        "ts = pd.Series(np.random.randint(0,10,len(rng)), index=rng)\n",
        "ts.head(20)"
      ],
      "execution_count": 17,
      "outputs": [
        {
          "output_type": "execute_result",
          "data": {
            "text/plain": [
              "2011-01-01 00:00:00    5\n",
              "2011-01-01 01:00:00    6\n",
              "2011-01-01 02:00:00    7\n",
              "2011-01-01 03:00:00    2\n",
              "2011-01-01 04:00:00    3\n",
              "2011-01-01 05:00:00    5\n",
              "2011-01-01 06:00:00    3\n",
              "2011-01-01 07:00:00    2\n",
              "2011-01-01 08:00:00    7\n",
              "2011-01-01 09:00:00    3\n",
              "2011-01-01 10:00:00    8\n",
              "2011-01-01 11:00:00    8\n",
              "2011-01-01 12:00:00    9\n",
              "2011-01-01 13:00:00    6\n",
              "2011-01-01 14:00:00    4\n",
              "2011-01-01 15:00:00    7\n",
              "2011-01-01 16:00:00    9\n",
              "2011-01-01 17:00:00    5\n",
              "2011-01-01 18:00:00    1\n",
              "2011-01-01 19:00:00    8\n",
              "Freq: H, dtype: int64"
            ]
          },
          "metadata": {},
          "execution_count": 17
        }
      ]
    }
  ]
}